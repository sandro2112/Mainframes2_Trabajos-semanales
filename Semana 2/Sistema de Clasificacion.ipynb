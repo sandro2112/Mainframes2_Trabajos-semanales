{
 "cells": [
  {
   "cell_type": "markdown",
   "metadata": {},
   "source": [
    "# Sistemas de Clasificación\n",
    "4 diferentes tipo de sistemas de clasificación, dependiendo de la métrica con la que tengas que trabajar"
   ]
  },
  {
   "cell_type": "code",
   "execution_count": null,
   "metadata": {},
   "outputs": [],
   "source": [
    "import random"
   ]
  },
  {
   "cell_type": "code",
   "execution_count": null,
   "metadata": {},
   "outputs": [],
   "source": [
    "import numpy as np"
   ]
  },
  {
   "cell_type": "code",
   "execution_count": null,
   "metadata": {},
   "outputs": [],
   "source": [
    "import pandas as pd"
   ]
  },
  {
   "cell_type": "code",
   "execution_count": null,
   "metadata": {},
   "outputs": [],
   "source": [
    "import math"
   ]
  },
  {
   "cell_type": "code",
   "execution_count": null,
   "metadata": {},
   "outputs": [],
   "source": [
    "def datos():\n",
    "    dt=pd.DataFrame()\n",
    "    categorias=[]\n",
    "    ls2=[i for i in range(0,1001)]\n",
    "    for n in range(1,101):\n",
    "        categorias.append(random.randint(1,30))\n",
    "    idpeliculas=[]\n",
    "    idpeliculas=random.sample(ls2,100)\n",
    "    dt=pd.DataFrame({'Categoria':categorias,'Pelicula':idpeliculas})\n",
    "    return dt"
   ]
  },
  {
   "cell_type": "code",
   "execution_count": null,
   "metadata": {},
   "outputs": [],
   "source": [
    "dataset=datos()"
   ]
  },
  {
   "cell_type": "code",
   "execution_count": null,
   "metadata": {},
   "outputs": [],
   "source": [
    "dataset"
   ]
  },
  {
   "cell_type": "markdown",
   "metadata": {},
   "source": [
    "## Cálculo de Distancias\n",
    "### Distancia Euclidiana"
   ]
  },
  {
   "cell_type": "code",
   "execution_count": 94,
   "metadata": {},
   "outputs": [],
   "source": [
    "def deuclidiana(x1,y1,x2,y2):\n",
    "    d=np.sqrt(np.power((x2-x1),2)+np.power((y2-y1),2))\n",
    "    return d"
   ]
  },
  {
   "cell_type": "code",
   "execution_count": 95,
   "metadata": {},
   "outputs": [
    {
     "data": {
      "text/plain": [
       "5.0"
      ]
     },
     "execution_count": 95,
     "metadata": {},
     "output_type": "execute_result"
    }
   ],
   "source": [
    "deuclidiana(0,0,3,4)"
   ]
  },
  {
   "cell_type": "markdown",
   "metadata": {},
   "source": [
    "### Distancia Manhatan"
   ]
  },
  {
   "cell_type": "code",
   "execution_count": 89,
   "metadata": {},
   "outputs": [],
   "source": [
    "def dmanhattan(x1,y1,x2,y2):\n",
    "    dm=np.abs(x2-x1)+np.abs(y2-y1)\n",
    "    return dm"
   ]
  },
  {
   "cell_type": "code",
   "execution_count": 92,
   "metadata": {},
   "outputs": [
    {
     "data": {
      "text/plain": [
       "7"
      ]
     },
     "execution_count": 92,
     "metadata": {},
     "output_type": "execute_result"
    }
   ],
   "source": [
    "dmanhattan(0,0,3,4)"
   ]
  },
  {
   "cell_type": "markdown",
   "metadata": {},
   "source": [
    "### Distancia Coseno"
   ]
  },
  {
   "cell_type": "code",
   "execution_count": null,
   "metadata": {},
   "outputs": [],
   "source": [
    "def dcoseno(x1,y1,x2,y2):\n",
    "    u=np.array([x1,y1])\n",
    "    v=np.array([x2,y2])\n",
    "    dm=1 - ((u*v)/abs(u)*abs(v))\n",
    "    return d"
   ]
  },
  {
   "cell_type": "markdown",
   "metadata": {},
   "source": [
    "### Distancia Jaccard"
   ]
  },
  {
   "cell_type": "code",
   "execution_count": null,
   "metadata": {},
   "outputs": [],
   "source": [
    "def djaccard(x1,y1,x2,y2):\n",
    "    u=np.array([x1,y1])\n",
    "    v=np.array([x2,y2])\n",
    "    dm=distance.jaccard(u,v)\n",
    "    return dm"
   ]
  },
  {
   "cell_type": "markdown",
   "metadata": {},
   "source": [
    "## Aplicación al Dataset"
   ]
  },
  {
   "cell_type": "code",
   "execution_count": 10,
   "metadata": {},
   "outputs": [],
   "source": [
    "x1=25"
   ]
  },
  {
   "cell_type": "code",
   "execution_count": 11,
   "metadata": {},
   "outputs": [],
   "source": [
    "y1=100"
   ]
  },
  {
   "cell_type": "markdown",
   "metadata": {},
   "source": [
    "### Euclidiana"
   ]
  },
  {
   "cell_type": "code",
   "execution_count": 104,
   "metadata": {},
   "outputs": [],
   "source": [
    "def recomendarE(dt,x1,y1):\n",
    "    distE=deuclidiana(dt.loc[:,'Categoria'],dt.loc[:,'Pelicula'],x1,y1)\n",
    "    dt['distE']=distE\n",
    "    return dt"
   ]
  },
  {
   "cell_type": "code",
   "execution_count": 97,
   "metadata": {},
   "outputs": [],
   "source": [
    "mE=recomendarE(dataset,x1,y1)"
   ]
  },
  {
   "cell_type": "code",
   "execution_count": 98,
   "metadata": {},
   "outputs": [],
   "source": [
    "def top5(dt):\n",
    "    s=np.sort(dt.loc[:,'distE'])\n",
    "    return s[:5]"
   ]
  },
  {
   "cell_type": "code",
   "execution_count": 99,
   "metadata": {},
   "outputs": [],
   "source": [
    "top5Eu=top5(mE)"
   ]
  },
  {
   "cell_type": "code",
   "execution_count": 100,
   "metadata": {},
   "outputs": [],
   "source": [
    "def determinarPeliculaE(top5,dt):\n",
    "    idP=[]\n",
    "    boolean=[]\n",
    "    boolean=mE.distE.isin(top5)\n",
    "    is_long=pd.Series(boolean)\n",
    "    return mE[is_long]"
   ]
  },
  {
   "cell_type": "code",
   "execution_count": 101,
   "metadata": {},
   "outputs": [],
   "source": [
    "peliE=determinarPeliculaE(top5Eu,mE)"
   ]
  },
  {
   "cell_type": "markdown",
   "metadata": {},
   "source": [
    "### Manhattan"
   ]
  },
  {
   "cell_type": "code",
   "execution_count": 105,
   "metadata": {},
   "outputs": [],
   "source": [
    "def recomendarM(dt,x1,y1):\n",
    "    distM=dmanhattan(dt.loc[:,'Categoria'],dt.loc[:,'Pelicula'],x1,y1)\n",
    "    dt['distM']=distM\n",
    "    return dt"
   ]
  },
  {
   "cell_type": "code",
   "execution_count": 106,
   "metadata": {},
   "outputs": [],
   "source": [
    "mM=recomendarM(dataset,x1,y1)"
   ]
  },
  {
   "cell_type": "code",
   "execution_count": 108,
   "metadata": {},
   "outputs": [],
   "source": [
    "def top5m(dt):\n",
    "    s=np.sort(dt.loc[:,'distM'])\n",
    "    return s[:5]"
   ]
  },
  {
   "cell_type": "code",
   "execution_count": 109,
   "metadata": {},
   "outputs": [],
   "source": [
    "top5Ma=top5m(mM)"
   ]
  },
  {
   "cell_type": "code",
   "execution_count": 111,
   "metadata": {},
   "outputs": [],
   "source": [
    "def determinarPeliculaM(top5,dt):\n",
    "    idP=[]\n",
    "    boolean=[]\n",
    "    boolean=mE.distM.isin(top5)\n",
    "    is_long=pd.Series(boolean)\n",
    "    return mE[is_long]"
   ]
  },
  {
   "cell_type": "code",
   "execution_count": 112,
   "metadata": {},
   "outputs": [],
   "source": [
    "peliM=determinarPeliculaM(top5Ma,mM)"
   ]
  },
  {
   "cell_type": "code",
   "execution_count": 113,
   "metadata": {},
   "outputs": [
    {
     "data": {
      "text/html": [
       "<div>\n",
       "<style scoped>\n",
       "    .dataframe tbody tr th:only-of-type {\n",
       "        vertical-align: middle;\n",
       "    }\n",
       "\n",
       "    .dataframe tbody tr th {\n",
       "        vertical-align: top;\n",
       "    }\n",
       "\n",
       "    .dataframe thead th {\n",
       "        text-align: right;\n",
       "    }\n",
       "</style>\n",
       "<table border=\"1\" class=\"dataframe\">\n",
       "  <thead>\n",
       "    <tr style=\"text-align: right;\">\n",
       "      <th></th>\n",
       "      <th>Categoria</th>\n",
       "      <th>Pelicula</th>\n",
       "      <th>distE</th>\n",
       "      <th>distM</th>\n",
       "    </tr>\n",
       "  </thead>\n",
       "  <tbody>\n",
       "    <tr>\n",
       "      <th>0</th>\n",
       "      <td>20</td>\n",
       "      <td>79</td>\n",
       "      <td>21.587033</td>\n",
       "      <td>26</td>\n",
       "    </tr>\n",
       "    <tr>\n",
       "      <th>21</th>\n",
       "      <td>30</td>\n",
       "      <td>90</td>\n",
       "      <td>11.180340</td>\n",
       "      <td>15</td>\n",
       "    </tr>\n",
       "    <tr>\n",
       "      <th>66</th>\n",
       "      <td>21</td>\n",
       "      <td>103</td>\n",
       "      <td>5.000000</td>\n",
       "      <td>7</td>\n",
       "    </tr>\n",
       "    <tr>\n",
       "      <th>69</th>\n",
       "      <td>25</td>\n",
       "      <td>109</td>\n",
       "      <td>9.000000</td>\n",
       "      <td>9</td>\n",
       "    </tr>\n",
       "    <tr>\n",
       "      <th>82</th>\n",
       "      <td>21</td>\n",
       "      <td>108</td>\n",
       "      <td>8.944272</td>\n",
       "      <td>12</td>\n",
       "    </tr>\n",
       "  </tbody>\n",
       "</table>\n",
       "</div>"
      ],
      "text/plain": [
       "    Categoria  Pelicula      distE  distM\n",
       "0          20        79  21.587033     26\n",
       "21         30        90  11.180340     15\n",
       "66         21       103   5.000000      7\n",
       "69         25       109   9.000000      9\n",
       "82         21       108   8.944272     12"
      ]
     },
     "execution_count": 113,
     "metadata": {},
     "output_type": "execute_result"
    }
   ],
   "source": [
    "peliM"
   ]
  },
  {
   "cell_type": "markdown",
   "metadata": {},
   "source": [
    "### Coseno"
   ]
  },
  {
   "cell_type": "code",
   "execution_count": null,
   "metadata": {},
   "outputs": [],
   "source": [
    "def recomendarC(dt,x1,y1):\n",
    "    distM=dcoseno(dt.loc[:,'Categoria'],dt.loc[:,'Pelicula'],x1,y1)\n",
    "    dt['distC']=distC\n",
    "    return dt"
   ]
  },
  {
   "cell_type": "code",
   "execution_count": null,
   "metadata": {},
   "outputs": [],
   "source": [
    "mC=recomendarC(dataset,x1,y1)"
   ]
  },
  {
   "cell_type": "code",
   "execution_count": null,
   "metadata": {},
   "outputs": [],
   "source": [
    "def top5c(dt):\n",
    "    s=np.sort(dt.loc[:,'distC'])\n",
    "    return s[:5]"
   ]
  },
  {
   "cell_type": "code",
   "execution_count": null,
   "metadata": {},
   "outputs": [],
   "source": [
    "top5Co=top5c(mC)"
   ]
  },
  {
   "cell_type": "code",
   "execution_count": null,
   "metadata": {},
   "outputs": [],
   "source": [
    "def determinarPeliculaC(top5,dt):\n",
    "    idP=[]\n",
    "    boolean=[]\n",
    "    boolean=mE.distC.isin(top5)\n",
    "    is_long=pd.Series(boolean)\n",
    "    return mE[is_long]"
   ]
  },
  {
   "cell_type": "code",
   "execution_count": null,
   "metadata": {},
   "outputs": [],
   "source": [
    "peliC=determinarPeliculaC(top5Co,mC)"
   ]
  },
  {
   "cell_type": "code",
   "execution_count": null,
   "metadata": {},
   "outputs": [],
   "source": [
    "peliC"
   ]
  },
  {
   "cell_type": "markdown",
   "metadata": {},
   "source": [
    "### Jaccard"
   ]
  },
  {
   "cell_type": "code",
   "execution_count": null,
   "metadata": {},
   "outputs": [],
   "source": [
    "def recomendarJ(dt,x1,y1):\n",
    "    distM=djaccard(dt.loc[:,'Categoria'],dt.loc[:,'Pelicula'],x1,y1)\n",
    "    dt['distJ']=distJ\n",
    "    return dt"
   ]
  },
  {
   "cell_type": "code",
   "execution_count": null,
   "metadata": {},
   "outputs": [],
   "source": [
    "mJ=recomendarJ(dataset,x1,y1)"
   ]
  },
  {
   "cell_type": "code",
   "execution_count": null,
   "metadata": {},
   "outputs": [],
   "source": [
    "def top5j(dt):\n",
    "    s=np.sort(dt.loc[:,'distJ'])\n",
    "    return s[:5]"
   ]
  },
  {
   "cell_type": "code",
   "execution_count": null,
   "metadata": {},
   "outputs": [],
   "source": [
    "top5Ja=top5m(mJ)"
   ]
  },
  {
   "cell_type": "code",
   "execution_count": null,
   "metadata": {},
   "outputs": [],
   "source": [
    "def determinarPeliculaJ(top5,dt):\n",
    "    idP=[]\n",
    "    boolean=[]\n",
    "    boolean=mJ.distJ.isin(top5)\n",
    "    is_long=pd.Series(boolean)\n",
    "    return mE[is_long]"
   ]
  },
  {
   "cell_type": "code",
   "execution_count": null,
   "metadata": {},
   "outputs": [],
   "source": [
    "peliJ=determinarPeliculaM(top5Ja,mJ)"
   ]
  },
  {
   "cell_type": "code",
   "execution_count": null,
   "metadata": {},
   "outputs": [],
   "source": [
    "peliJ"
   ]
  }
 ],
 "metadata": {
  "kernelspec": {
   "display_name": "Python 3",
   "language": "python",
   "name": "python3"
  },
  "language_info": {
   "codemirror_mode": {
    "name": "ipython",
    "version": 3
   },
   "file_extension": ".py",
   "mimetype": "text/x-python",
   "name": "python",
   "nbconvert_exporter": "python",
   "pygments_lexer": "ipython3",
   "version": "3.5.2"
  }
 },
 "nbformat": 4,
 "nbformat_minor": 2
}
